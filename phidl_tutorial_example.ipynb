{
 "cells": [
  {
   "cell_type": "markdown",
   "metadata": {},
   "source": [
    "# About this notebook\n",
    "\n",
    "This notebook is just used to quickly demonstrate some basic functionality of PHIDL.  For a much more expansive tutorial with more thorough explanations, please see the phidl_tutorial_example.py file (link here: [phidl_tutorial_example.py](https://github.com/amccaugh/phidl/blob/master/phidl/phidl_tutorial_example.py#L35) )\n"
   ]
  },
  {
   "cell_type": "code",
   "execution_count": null,
   "metadata": {},
   "outputs": [],
   "source": [
    "# Boilerplate stuff \n",
    "%matplotlib notebook\n",
    "import warnings; warnings.filterwarnings(\"ignore\")\n",
    "\n",
    "from phidl import Device\n",
    "from phidl import quickplot as qp # Rename \"quickplot()\" to the easier \"qp()\"\n",
    "import phidl.geometry as pg\n",
    "\n",
    "\n",
    "# Create a blank device (essentially an empty GDS cell with some special features)\n",
    "D = Device('mydevice')\n",
    "\n",
    "# Create and add a polygon from separate lists of x points and y points\n",
    "# (Can also be added like [(x1,y1), (x2,y2), (x3,y3), ... ]\n",
    "poly1 = D.add_polygon( [(-8,6,7,9), (-6,8,17,5)], layer = 0)\n",
    "\n",
    "# Create some new geometry from the functions available in the geometry library\n",
    "T = pg.text('Hello!')\n",
    "C = pg.arc(radius = 25, width = 2, theta = 45, layer = 1)\n",
    "R = pg.rectangle(size = [5,10], layer = 2)\n",
    "\n",
    "# Add references to the new geometry to D, our blank device\n",
    "text1 = D.add_ref(T) # Add the text we created as a reference\n",
    "text2 = D << T # Using the << operator (identical to add_ref()), add the same geometry a second time\n",
    "c = D << C # Add the arc we created\n",
    "r = D << R # Add the rectangle we created\n",
    "\n",
    "# Now that the geometry has been added to \"D\", we can move everything around:\n",
    "text1.movey(25)\n",
    "text2.move([5,30])\n",
    "text2.rotate(45)\n",
    "r.movex(-15)\n",
    "\n",
    "qp(D) # quickplot it!\n"
   ]
  },
  {
   "cell_type": "markdown",
   "metadata": {},
   "source": [
    "# Smarter movement with **ports**\n",
    "\n",
    "Any Device can have \"Port\"s in it which allow you to snap geometry together like legos.  Below is an example where we write a simple function to make a rectangular waveguide, assign ports to the ends of the rectangle, and then snap those rectangles together"
   ]
  },
  {
   "cell_type": "code",
   "execution_count": null,
   "metadata": {},
   "outputs": [],
   "source": [
    "\n",
    "def waveguide(width = 10, height = 1, layer = 0):\n",
    "    WG = Device('waveguide')\n",
    "    WG.add_polygon( [(0, 0), (width, 0), (width, height), (0, height)], layer = layer)\n",
    "    WG.add_port(name = 'wgport1', midpoint = [0,height/2], width = height, orientation = 180)\n",
    "    WG.add_port(name = 'wgport2', midpoint = [width,height/2], width = height, orientation = 0)\n",
    "    return WG\n",
    "\n",
    "D = Device()\n",
    "\n",
    "wg1 = D << waveguide(width=6, height = 2.5, layer = 1)\n",
    "wg2 = D << waveguide(width=11, height = 2.5, layer = 2)\n",
    "wg3 = D << waveguide(width=15, height = 2.5, layer = 3)\n",
    "wg2.movey(10).rotate(10)\n",
    "wg3.movey(20).rotate(15)\n",
    "\n",
    "# And plot the result!\n",
    "qp(D, new_window = True)\n"
   ]
  },
  {
   "cell_type": "code",
   "execution_count": null,
   "metadata": {},
   "outputs": [],
   "source": [
    "# Now we can connect everything together using the ports:\n",
    "\n",
    "# Each waveguide has two ports: 'wgport1' and 'wgport2'.  These are arbitrary \n",
    "# names defined in our waveguide() function above\n",
    "\n",
    "# Let's keep wg1 in place on the bottom, and connect the other waveguides to it.\n",
    "# To do that, on wg2 we'll grab the \"wgport1\" port and connect it to the \"wgport2\" on wg1:\n",
    "wg2.connect('wgport1', wg1.ports['wgport2'])\n",
    "# Next, on wg3 let's grab the \"wgport1\" port and connect it to the \"wgport2\" on wg2:\n",
    "wg3.connect('wgport1', wg2.ports['wgport2'])\n",
    "\n",
    "# And plot the result!\n",
    "qp(D, new_window = True)\n"
   ]
  },
  {
   "cell_type": "code",
   "execution_count": null,
   "metadata": {},
   "outputs": [],
   "source": []
  }
 ],
 "metadata": {
  "kernelspec": {
   "display_name": "Python 3",
   "language": "python",
   "name": "python3"
  },
  "language_info": {
   "codemirror_mode": {
    "name": "ipython",
    "version": 3
   },
   "file_extension": ".py",
   "mimetype": "text/x-python",
   "name": "python",
   "nbconvert_exporter": "python",
   "pygments_lexer": "ipython3",
   "version": "3.7.3"
  }
 },
 "nbformat": 4,
 "nbformat_minor": 2
}
